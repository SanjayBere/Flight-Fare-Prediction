﻿import numpy as np
import pandas as pd
import matplotlib.pyplot as plt
import seaborn as sns
import warnings
warnings.filterwarnings('ignore')

train_data = pd.read_excel('D:/AppliedAICourse/Projects/Machine Learning/Flight Fare Prediction/Train.xlsx')